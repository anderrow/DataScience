{
  "nbformat": 4,
  "nbformat_minor": 0,
  "metadata": {
    "colab": {
      "private_outputs": true,
      "provenance": [],
      "gpuType": "T4",
      "authorship_tag": "ABX9TyNbmskNhkyDhzYLiW/Dq5T+",
      "include_colab_link": true
    },
    "kernelspec": {
      "name": "python3",
      "display_name": "Python 3"
    },
    "language_info": {
      "name": "python"
    },
    "accelerator": "GPU"
  },
  "cells": [
    {
      "cell_type": "markdown",
      "metadata": {
        "id": "view-in-github",
        "colab_type": "text"
      },
      "source": [
        "<a href=\"https://colab.research.google.com/github/anderrow/DataScience/blob/master/RunningLocal.ipynb\" target=\"_parent\"><img src=\"https://colab.research.google.com/assets/colab-badge.svg\" alt=\"Open In Colab\"/></a>"
      ]
    },
    {
      "cell_type": "code",
      "execution_count": null,
      "metadata": {
        "id": "03e_T6TJs5TX"
      },
      "outputs": [],
      "source": [
        "#Write this in anaconda pront and take the localhost token url.\n",
        "#jupyter notebook --NotebookApp.allow_origin='https://colab.research.google.com' --port=8889 --NotebookApp.port_retries=0"
      ]
    },
    {
      "cell_type": "code",
      "source": [
        "%timeit max(range(1000000))"
      ],
      "metadata": {
        "id": "PLGl-Bers_PZ"
      },
      "execution_count": null,
      "outputs": []
    },
    {
      "cell_type": "code",
      "source": [
        "%timeit max(range(1000000))"
      ],
      "metadata": {
        "id": "kp3bJ9MGwc6v"
      },
      "execution_count": null,
      "outputs": []
    },
    {
      "cell_type": "markdown",
      "source": [],
      "metadata": {
        "id": "K5ZSiwJ8w_m3"
      }
    },
    {
      "cell_type": "markdown",
      "source": [],
      "metadata": {
        "id": "g7V0_cR_0xoe"
      }
    },
    {
      "cell_type": "code",
      "source": [],
      "metadata": {
        "id": "reBjkrap0y_W"
      },
      "execution_count": null,
      "outputs": []
    }
  ]
}